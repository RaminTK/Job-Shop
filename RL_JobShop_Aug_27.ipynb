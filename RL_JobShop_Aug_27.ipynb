{
  "nbformat": 4,
  "nbformat_minor": 0,
  "metadata": {
    "colab": {
      "provenance": [],
      "gpuType": "T4",
      "authorship_tag": "ABX9TyOW1LLHrsaT0gngxl0zGASl",
      "include_colab_link": true
    },
    "kernelspec": {
      "name": "python3",
      "display_name": "Python 3"
    },
    "language_info": {
      "name": "python"
    },
    "accelerator": "GPU"
  },
  "cells": [
    {
      "cell_type": "markdown",
      "metadata": {
        "id": "view-in-github",
        "colab_type": "text"
      },
      "source": [
        "<a href=\"https://colab.research.google.com/github/RaminTK/Job-Shop/blob/main/RL_JobShop_Aug_27.ipynb\" target=\"_parent\"><img src=\"https://colab.research.google.com/assets/colab-badge.svg\" alt=\"Open In Colab\"/></a>"
      ]
    },
    {
      "cell_type": "markdown",
      "source": [
        "Libraries"
      ],
      "metadata": {
        "id": "WXQZdnpYQiXs"
      }
    },
    {
      "cell_type": "code",
      "source": [
        "import numpy as np\n",
        "import torch\n",
        "import torch.nn as nn\n",
        "import torch.optim as optim\n",
        "import random\n",
        "from collections import deque\n",
        "import matplotlib.pyplot as plt\n",
        "import time"
      ],
      "metadata": {
        "id": "FN4VYuZAQgwM"
      },
      "execution_count": null,
      "outputs": []
    },
    {
      "cell_type": "markdown",
      "source": [
        "CONFIG"
      ],
      "metadata": {
        "id": "1t-Ao6xhQjvS"
      }
    },
    {
      "cell_type": "code",
      "source": [
        "device = torch.device(\"cuda\" if torch.cuda.is_available() else \"cpu\")\n",
        "print(f\"Using device: {device}\")"
      ],
      "metadata": {
        "colab": {
          "base_uri": "https://localhost:8080/"
        },
        "id": "0qrjyfIFQd5v",
        "outputId": "23f90523-695f-4ccb-e1b4-f65346c20574"
      },
      "execution_count": null,
      "outputs": [
        {
          "output_type": "stream",
          "name": "stdout",
          "text": [
            "Using device: cuda\n"
          ]
        }
      ]
    },
    {
      "cell_type": "markdown",
      "source": [
        "ENVIRONMENT"
      ],
      "metadata": {
        "id": "JxtI1rLnRROJ"
      }
    },
    {
      "cell_type": "code",
      "source": [
        "class JobShopEnvironment:\n",
        "    def __init__(self, jobs_data):\n",
        "        self.jobs_data = jobs_data\n",
        "        self.n_jobs = len(jobs_data)\n",
        "        self.n_machines = len(jobs_data[0])\n",
        "        self.optimal_target = 55\n",
        "        self.reset()\n",
        "\n",
        "    def reset(self):\n",
        "        self.machine_times = [0] * self.n_machines\n",
        "        self.job_completion_times = [0] * self.n_jobs\n",
        "        self.job_progress = [0] * self.n_jobs\n",
        "        self.total_operations = 0\n",
        "        self.max_operations = self.n_jobs * self.n_machines\n",
        "        self.policy_seq = []\n",
        "        return self.get_state()\n",
        "\n",
        "    def get_valid_actions(self):\n",
        "        return [job_id for job_id in range(self.n_jobs)\n",
        "                if self.job_progress[job_id] < self.n_machines]\n",
        "\n",
        "    def get_state(self):\n",
        "        state = []\n",
        "        progress = self.total_operations / self.max_operations\n",
        "        state.append(progress)\n",
        "\n",
        "        current_makespan = max(self.machine_times) if self.machine_times else 0\n",
        "        state.append(current_makespan / 200.0)\n",
        "\n",
        "        total_work = sum(self.machine_times)\n",
        "        if total_work > 0:\n",
        "            machine_util = [t / total_work for t in self.machine_times]\n",
        "        else:\n",
        "            machine_util = [0] * self.n_machines\n",
        "        state.extend(machine_util)\n",
        "\n",
        "        job_ratios = [prog / self.n_machines for prog in self.job_progress]\n",
        "        state.extend(job_ratios)\n",
        "\n",
        "        for job_id in range(self.n_jobs):\n",
        "            if self.job_progress[job_id] < self.n_machines:\n",
        "                machine, duration = self.jobs_data[job_id][self.job_progress[job_id]]\n",
        "                machine_available = self.machine_times[machine]\n",
        "                job_available = self.job_completion_times[job_id]\n",
        "                wait_time = max(0, machine_available - job_available)\n",
        "                state.extend([\n",
        "                    machine / self.n_machines,\n",
        "                    duration / 20.0,\n",
        "                    wait_time / 100.0,\n",
        "                    machine_available / 100.0\n",
        "                ])\n",
        "            else:\n",
        "                state.extend([0, 0, 0, 0])\n",
        "\n",
        "        if max(self.machine_times) > 0:\n",
        "            balance = 1.0 - (np.std(self.machine_times) / np.mean(self.machine_times))\n",
        "        else:\n",
        "            balance = 1.0\n",
        "        state.append(balance)\n",
        "\n",
        "        return np.array(state, dtype=np.float32)\n",
        "\n",
        "    def step(self, action):\n",
        "        valid_actions = self.get_valid_actions()\n",
        "        if not valid_actions or action not in valid_actions:\n",
        "            return self.get_state(), -100, False\n",
        "\n",
        "        job_id = action\n",
        "        operation_idx = self.job_progress[job_id]\n",
        "        machine, duration = self.jobs_data[job_id][operation_idx]\n",
        "\n",
        "        prev_makespan = max(self.machine_times)\n",
        "        prev_machine_balance = np.std(self.machine_times)\n",
        "\n",
        "        start_time = max(self.machine_times[machine], self.job_completion_times[job_id])\n",
        "        end_time = start_time + duration\n",
        "\n",
        "        self.machine_times[machine] = end_time\n",
        "        self.job_completion_times[job_id] = end_time\n",
        "        self.job_progress[job_id] += 1\n",
        "        self.total_operations += 1\n",
        "        self.policy_seq.append(job_id)\n",
        "\n",
        "        done = all(progress >= self.n_machines for progress in self.job_progress)\n",
        "\n",
        "        if done:\n",
        "            makespan = max(self.machine_times)\n",
        "            # Strong final reward\n",
        "            reward = 100 - (makespan - self.optimal_target) * 20 #penalty from 1000 to 100\n",
        "        else:\n",
        "            current_makespan = max(self.machine_times)\n",
        "            makespan_increase = current_makespan - prev_makespan\n",
        "            current_balance = np.std(self.machine_times)\n",
        "\n",
        "            progress_reward = 1\n",
        "            makespan_penalty = -makespan_increase * 0.5\n",
        "            balance_reward = 2 if current_balance < prev_machine_balance else -1\n",
        "            makespan_penalty_abs = -current_makespan * 0.01\n",
        "\n",
        "            reward = progress_reward + makespan_penalty + balance_reward + makespan_penalty_abs\n",
        "\n",
        "        return self.get_state(), reward, done\n",
        "\n",
        "    def get_makespan(self):\n",
        "        return max(self.machine_times)"
      ],
      "metadata": {
        "id": "_XBD0gyCRXXe"
      },
      "execution_count": null,
      "outputs": []
    },
    {
      "cell_type": "markdown",
      "source": [
        "Q-NETWORK"
      ],
      "metadata": {
        "id": "hxorpSMWSdHZ"
      }
    },
    {
      "cell_type": "code",
      "source": [
        "class ImprovedQNetwork(nn.Module):\n",
        "    def __init__(self, state_dim, action_dim):\n",
        "        super().__init__()\n",
        "        self.network = nn.Sequential(\n",
        "            nn.Linear(state_dim, 128),\n",
        "            nn.ReLU(),\n",
        "            nn.Linear(128, 64),\n",
        "            nn.ReLU(),\n",
        "            nn.Linear(64, action_dim)\n",
        "        )\n",
        "\n",
        "    def forward(self, x):\n",
        "        return self.network(x)"
      ],
      "metadata": {
        "id": "7tyNK457Sf0H"
      },
      "execution_count": null,
      "outputs": []
    },
    {
      "cell_type": "markdown",
      "source": [
        "AGENT"
      ],
      "metadata": {
        "id": "sAd6SHjOShbE"
      }
    },
    {
      "cell_type": "code",
      "source": [
        "class ImprovedDQNAgent:\n",
        "    def __init__(self, state_dim, action_dim):\n",
        "        self.q_network = ImprovedQNetwork(state_dim, action_dim).to(device)\n",
        "        self.target_network = ImprovedQNetwork(state_dim, action_dim).to(device)\n",
        "        self.optimizer = optim.AdamW(self.q_network.parameters(), lr=0.001, weight_decay=1e-5)\n",
        "        # self.scheduler = optim.lr_scheduler.ReduceLROnPlateau(self.optimizer, patience=50, factor=0.8)\n",
        "\n",
        "        self.memory = deque(maxlen=20000)\n",
        "        self.batch_size = 64\n",
        "        self.gamma = 0.99\n",
        "        self.epsilon = 1.0\n",
        "        self.epsilon_decay = 0.9995  # slower decay\n",
        "        self.epsilon_min = 0.01\n",
        "        self.update_target_freq = 100\n",
        "        self.update_count = 0\n",
        "\n",
        "        self.update_target_network()\n",
        "\n",
        "    def update_target_network(self):\n",
        "        self.target_network.load_state_dict(self.q_network.state_dict())\n",
        "\n",
        "    def remember(self, state, action, reward, next_state, done):\n",
        "        self.memory.append((state, action, reward, next_state, done))\n",
        "\n",
        "    def choose_action(self, state, valid_actions):\n",
        "        if not valid_actions:\n",
        "            return 0\n",
        "        if random.random() < self.epsilon:\n",
        "            return random.choice(valid_actions)\n",
        "        with torch.no_grad():\n",
        "            # state_tensor = torch.FloatTensor(state).unsqueeze(0)\n",
        "            state_tensor = torch.as_tensor(state, dtype=torch.float32, device=device).unsqueeze(0)\n",
        "\n",
        "            q_values = self.q_network(state_tensor)[0]\n",
        "            masked_q_values = q_values.clone()\n",
        "            for i in range(len(q_values)):\n",
        "                if i not in valid_actions:\n",
        "                    masked_q_values[i] = -1e9\n",
        "            return masked_q_values.argmax().item()\n",
        "\n",
        "    def train(self):\n",
        "        if len(self.memory) < self.batch_size:\n",
        "            return None\n",
        "        batch = random.sample(self.memory, self.batch_size)\n",
        "        # states = torch.FloatTensor([e[0] for e in batch])\n",
        "        # actions = torch.LongTensor([e[1] for e in batch])\n",
        "        # rewards = torch.FloatTensor([e[2] for e in batch])\n",
        "        # next_states = torch.FloatTensor([e[3] for e in batch])\n",
        "        # dones = torch.BoolTensor([e[4] for e in batch])\n",
        "\n",
        "        # states = torch.as_tensor([e[0] for e in batch], dtype=torch.float32, device=device)\n",
        "        states = torch.as_tensor(np.array([e[0] for e in batch]), dtype=torch.float32, device=device)\n",
        "        actions = torch.as_tensor([e[1] for e in batch], dtype=torch.long, device=device)\n",
        "        rewards = torch.as_tensor([e[2] for e in batch], dtype=torch.float32, device=device)\n",
        "        next_states = torch.as_tensor(np.array([e[3] for e in batch]), dtype=torch.float32, device=device)\n",
        "        dones = torch.as_tensor([e[4] for e in batch], dtype=torch.bool, device=device)\n",
        "\n",
        "\n",
        "        current_q = self.q_network(states).gather(1, actions.unsqueeze(1))\n",
        "\n",
        "        with torch.no_grad():\n",
        "            next_actions = self.q_network(next_states).argmax(1)\n",
        "            next_q = self.target_network(next_states).gather(1, next_actions.unsqueeze(1)).squeeze(1)\n",
        "            target_q = rewards + self.gamma * next_q * ~dones\n",
        "\n",
        "        loss = nn.SmoothL1Loss()(current_q.squeeze(), target_q)\n",
        "\n",
        "        self.optimizer.zero_grad()\n",
        "        loss.backward()\n",
        "        torch.nn.utils.clip_grad_norm_(self.q_network.parameters(), max_norm=10)\n",
        "        self.optimizer.step()\n",
        "\n",
        "        self.update_count += 1\n",
        "        if self.update_count % self.update_target_freq == 0:\n",
        "            self.update_target_network()\n",
        "\n",
        "        # if self.epsilon > self.epsilon_min:\n",
        "        #     self.epsilon *= self.epsilon_decay\n",
        "\n",
        "        return loss.item()\n"
      ],
      "metadata": {
        "id": "IkA7bGh3Skq1"
      },
      "execution_count": null,
      "outputs": []
    },
    {
      "cell_type": "markdown",
      "source": [
        "TRAINING"
      ],
      "metadata": {
        "id": "-paOEJk4SozX"
      }
    },
    {
      "cell_type": "code",
      "source": [
        "def train_improved_rl(jobs_data, episodes=1500):\n",
        "    env = JobShopEnvironment(jobs_data)\n",
        "    state_dim = len(env.get_state())\n",
        "    action_dim = env.n_jobs\n",
        "    agent = ImprovedDQNAgent(state_dim, action_dim)\n",
        "\n",
        "\n",
        "    # --- adaptive epsilon controller (time-varying baseline) ---\n",
        "    eps_min = 0.05\n",
        "    eps_max = 0.70\n",
        "\n",
        "    # baseline that decays over training (edit total_episodes if you pass it in)\n",
        "    total_episodes = episodes\n",
        "    def eps_base_fn(ep):\n",
        "        lo, hi = 0.25, 0.60         # baseline goes 0.60 → 0.25 across training\n",
        "        frac = min(ep / max(total_episodes, 1), 1.0)\n",
        "        return hi + (lo - hi) * frac\n",
        "\n",
        "    eps = 0.60                      # start quite exploratory\n",
        "    exploit_mul = 0.95              # softer ε drop on improvement\n",
        "    bump_add = 0.12                 # stronger bump when stuck\n",
        "    relax_decay = 0.85              # relax quickly back toward baseline\n",
        "    stuck_window = 20               # detect stagnation sooner\n",
        "    improve_thresh = 2              # ignore tiny 1-unit changes\n",
        "    stuck_count = 0\n",
        "    cooldown = 0\n",
        "    cooldown_ep = 5\n",
        "\n",
        "    agent.epsilon = eps\n",
        "\n",
        "\n",
        "\n",
        "    rewards_history, makespan_history, loss_history = [], [], []\n",
        "    best_makespan = float('inf')\n",
        "    best_episode = 0\n",
        "    best_policy_seq = []\n",
        "    stuck_counter = 0\n",
        "\n",
        "    for episode in range(episodes):\n",
        "        state = env.reset()\n",
        "        total_reward, done, step_count = 0, False, 0\n",
        "\n",
        "        while not done and step_count < 200:\n",
        "            valid_actions = env.get_valid_actions()\n",
        "            action = agent.choose_action(state, valid_actions)\n",
        "            next_state, reward, done = env.step(action)\n",
        "            agent.remember(state, action, reward, next_state, done)\n",
        "            state = next_state\n",
        "            total_reward += reward\n",
        "            step_count += 1\n",
        "\n",
        "            if len(agent.memory) > agent.batch_size:\n",
        "                loss = agent.train()\n",
        "                if loss is not None:\n",
        "                    loss_history.append(loss)\n",
        "                    # if episode % 5 == 0:\n",
        "                    #     agent.scheduler.step(loss)\n",
        "        makespan = env.get_makespan()\n",
        "        rewards_history.append(total_reward)\n",
        "        makespan_history.append(makespan)\n",
        "\n",
        "        # improvement / stagnation logic\n",
        "        if makespan + improve_thresh <= best_makespan:\n",
        "            best_makespan = makespan\n",
        "            best_episode = episode\n",
        "            best_policy_seq = env.policy_seq.copy()\n",
        "            # exploit a bit more, but gently\n",
        "            eps = max(eps * exploit_mul, eps_min)\n",
        "            stuck_count = 0\n",
        "            cooldown = cooldown_ep\n",
        "\n",
        "            if best_makespan <= env.optimal_target:\n",
        "                print(f\"🎉 OPTIMAL FOUND at episode {episode}, makespan={best_makespan}\")\n",
        "                break\n",
        "        else:\n",
        "            stuck_count += 1\n",
        "            if stuck_count >= stuck_window and cooldown == 0:\n",
        "                # bump exploration to escape the basin\n",
        "                eps = min(eps + bump_add, eps_max)\n",
        "                stuck_count = 0\n",
        "                cooldown = cooldown_ep\n",
        "\n",
        "        # cooldown ticks\n",
        "        if cooldown > 0:\n",
        "            cooldown -= 1\n",
        "\n",
        "        # relaxation toward a time-varying baseline\n",
        "        eps_base = eps_base_fn(episode)\n",
        "        eps = eps_base + (eps - eps_base) * relax_decay\n",
        "        eps = float(np.clip(eps, eps_min, eps_max))\n",
        "        agent.epsilon = eps\n",
        "\n",
        "        # logging\n",
        "        if episode % 5 == 0:\n",
        "            recent_avg = np.mean(makespan_history[-50:]) if len(makespan_history) >= 50 else np.mean(makespan_history)\n",
        "            current_lr = agent.optimizer.param_groups[0]['lr']\n",
        "            print(f\"Episode {episode}: Best={best_makespan} (ep {best_episode}), \"\n",
        "                  f\"Recent Avg={recent_avg:.1f}, ε={agent.epsilon:.3f}, LR={current_lr:.6f}\")\n",
        "\n",
        "\n",
        "\n",
        "\n",
        "    return agent, best_makespan, best_policy_seq, makespan_history, loss_history"
      ],
      "metadata": {
        "id": "LY2qZFzzSoVm"
      },
      "execution_count": null,
      "outputs": []
    },
    {
      "cell_type": "markdown",
      "source": [
        "GANTT CHART and TIME"
      ],
      "metadata": {
        "id": "vEu3rU5TSoL8"
      }
    },
    {
      "cell_type": "code",
      "source": [
        "def plot_gantt(seq, jobs_data, best_makespan):\n",
        "    n_jobs = len(jobs_data)\n",
        "    n_machines = len(jobs_data[0])\n",
        "    ops_per_job = len(jobs_data[0])\n",
        "    machine_times = [0] * n_machines\n",
        "    job_times = [0] * n_jobs\n",
        "    op_indices = [0] * n_jobs\n",
        "    schedule = []\n",
        "\n",
        "    for job in seq:\n",
        "        if op_indices[job] >= ops_per_job:\n",
        "            continue\n",
        "        op_idx = op_indices[job]\n",
        "        machine, duration = jobs_data[job][op_idx]\n",
        "        start = max(machine_times[machine], job_times[job])\n",
        "        finish = start + duration\n",
        "        schedule.append((job, machine, start, finish))\n",
        "        machine_times[machine] = finish\n",
        "        job_times[job] = finish\n",
        "        op_indices[job] += 1\n",
        "\n",
        "    fig, ax = plt.subplots(figsize=(10, 6))\n",
        "    colors = plt.cm.tab20.colors\n",
        "    for job_id, machine, start, finish in schedule:\n",
        "        ax.barh(machine, finish - start, left=start, color=colors[job_id % len(colors)], edgecolor='black')\n",
        "        ax.text(start + (finish - start)/2, machine, f\"J{job_id}\", va='center', ha='center', color='white', fontsize=8)\n",
        "\n",
        "    ax.set_yticks(range(n_machines))\n",
        "    ax.set_yticklabels([f\"M{m}\" for m in range(n_machines)])\n",
        "    ax.set_xlabel(\"Time\")\n",
        "    ax.set_ylabel(\"Machine\")\n",
        "    ax.set_title(f\"Learned Schedule (Makespan={best_makespan})\")\n",
        "    ax.grid(True, axis='x', linestyle='--', alpha=0.7)\n",
        "    plt.show()\n",
        "\n",
        "\n",
        "\n",
        "def now(): return time.perf_counter()\n",
        "\n",
        "def sync():\n",
        "    if torch.cuda.is_available():\n",
        "        torch.cuda.synchronize()"
      ],
      "metadata": {
        "id": "vkRiW108SyMq"
      },
      "execution_count": null,
      "outputs": []
    },
    {
      "cell_type": "markdown",
      "source": [
        "MAIN"
      ],
      "metadata": {
        "id": "N_HIBpYeS41L"
      }
    },
    {
      "cell_type": "code",
      "source": [
        "if __name__ == \"__main__\":\n",
        "    jobs_data = [\n",
        "        [(2,1),(0,3),(1,6),(3,7),(5,3),(4,6)],\n",
        "        [(1,8),(2,5),(4,10),(5,10),(0,10),(3,4)],\n",
        "        [(2,5),(3,4),(5,8),(0,9),(1,1),(4,7)],\n",
        "        [(1,5),(0,5),(2,5),(3,3),(4,8),(5,9)],\n",
        "        [(2,9),(1,3),(4,5),(5,4),(0,3),(3,1)],\n",
        "        [(1,3),(3,3),(5,9),(0,10),(4,4),(2,1)],\n",
        "    ]\n",
        "\n",
        "    # FT20 dataset\n",
        "    # OPTIMAL SOL = 1165\n",
        "    # jobs_data = [\n",
        "    #     [(0,29),(1,9),(2,49),(3,62),(4,44)],\n",
        "    #     [(0,43),(1,75),(3,69),(2,46),(4,72)],\n",
        "    #     [(1,91),(0,39),(2,90),(4,12),(3,45)],\n",
        "    #     [(1,81),(0,71),(4,9),(2,85),(3,22)],\n",
        "    #     [(2,14),(1,22),(0,26),(3,21),(4,72)],\n",
        "    #     [(2,84),(1,52),(4,48),(0,47),(3,6)],\n",
        "    #     [(1,46),(0,61),(2,32),(3,32),(4,30)],\n",
        "    #     [(2,31),(1,46),(0,32),(3,19),(4,36)],s\n",
        "    #     [(0,76),(3,76),(2,85),(1,40),(4,26)],\n",
        "    #     [(1,85),(2,61),(0,64),(3,47),(4,90)],\n",
        "    #     [(1,78),(3,36),(0,11),(4,56),(2,21)],\n",
        "    #     [(2,90),(0,11),(1,28),(3,46),(4,30)],\n",
        "    #     [(0,85),(2,74),(1,10),(3,89),(4,33)],\n",
        "    #     [(2,95),(0,99),(1,52),(3,98),(4,43)],\n",
        "    #     [(0,6),(1,61),(4,69),(2,49),(3,53)],\n",
        "    #     [(1,2),(0,95),(3,72),(4,65),(2,25)],\n",
        "    #     [(0,37),(2,13),(1,21),(3,89),(4,55)],\n",
        "    #     [(0,86),(1,74),(4,88),(2,48),(3,79)],\n",
        "    #     [(1,69),(2,51),(0,11),(3,89),(4,74)],\n",
        "    #     [(0,13),(1,7),(2,76),(3,52),(4,45)],\n",
        "    # ]\n",
        "\n",
        "    t0 = now()\n",
        "\n",
        "    agent, best_makespan, best_policy_seq, makespan_history, loss_history = train_improved_rl(jobs_data, episodes=100)\n",
        "    print(f\"\\n Best makespan: {best_makespan}\")\n",
        "    sync()\n",
        "    train_seconds = now() - t0\n",
        "    print(f\"\\n Train time: {train_seconds:.2f}s\")\n",
        "\n",
        "    if best_policy_seq:\n",
        "        plot_gantt(best_policy_seq, jobs_data, best_makespan)"
      ],
      "metadata": {
        "colab": {
          "base_uri": "https://localhost:8080/",
          "height": 981
        },
        "id": "NP2Mr6MoS4Wp",
        "outputId": "d6ee0eb0-1ef8-4bf4-b603-d251a423440a"
      },
      "execution_count": null,
      "outputs": [
        {
          "output_type": "stream",
          "name": "stdout",
          "text": [
            "Episode 0: Best=100 (ep 0), Recent Avg=100.0, ε=0.575, LR=0.001000\n",
            "Episode 5: Best=92 (ep 4), Recent Avg=109.8, ε=0.561, LR=0.001000\n",
            "Episode 10: Best=82 (ep 9), Recent Avg=104.7, ε=0.546, LR=0.001000\n",
            "Episode 15: Best=82 (ep 9), Recent Avg=103.0, ε=0.550, LR=0.001000\n",
            "Episode 20: Best=78 (ep 20), Recent Avg=100.8, ε=0.519, LR=0.001000\n",
            "Episode 25: Best=78 (ep 20), Recent Avg=99.6, ε=0.519, LR=0.001000\n",
            "Episode 30: Best=78 (ep 20), Recent Avg=99.0, ε=0.509, LR=0.001000\n",
            "Episode 35: Best=68 (ep 35), Recent Avg=98.0, ε=0.473, LR=0.001000\n",
            "Episode 40: Best=68 (ep 35), Recent Avg=98.4, ε=0.469, LR=0.001000\n",
            "Episode 45: Best=68 (ep 35), Recent Avg=98.7, ε=0.458, LR=0.001000\n",
            "Episode 50: Best=68 (ep 35), Recent Avg=99.6, ε=0.443, LR=0.001000\n",
            "Episode 55: Best=68 (ep 35), Recent Avg=97.2, ε=0.528, LR=0.001000\n",
            "Episode 60: Best=68 (ep 35), Recent Avg=98.4, ε=0.455, LR=0.001000\n",
            "Episode 65: Best=68 (ep 35), Recent Avg=100.2, ε=0.412, LR=0.001000\n",
            "Episode 70: Best=68 (ep 35), Recent Avg=102.3, ε=0.384, LR=0.001000\n",
            "Episode 75: Best=68 (ep 35), Recent Avg=104.4, ε=0.463, LR=0.001000\n",
            "Episode 80: Best=68 (ep 35), Recent Avg=106.8, ε=0.387, LR=0.001000\n",
            "Episode 85: Best=68 (ep 35), Recent Avg=110.4, ε=0.343, LR=0.001000\n",
            "Episode 90: Best=68 (ep 35), Recent Avg=112.0, ε=0.314, LR=0.001000\n",
            "Episode 95: Best=68 (ep 35), Recent Avg=114.8, ε=0.393, LR=0.001000\n",
            "\n",
            " Best makespan: 68\n",
            "\n",
            " Train time: 10.14s\n"
          ]
        },
        {
          "output_type": "display_data",
          "data": {
            "text/plain": [
              "<Figure size 1000x600 with 1 Axes>"
            ],
            "image/png": "[encoded data removed]"
          },
          "metadata": {}
        }
      ]
    },
    {
      "cell_type": "markdown",
      "source": [],
      "metadata": {
        "id": "KHHQyXcgMcQN"
      }
    }
  ]
}